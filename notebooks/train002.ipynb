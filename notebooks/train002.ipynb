{
 "cells": [
  {
   "cell_type": "code",
   "execution_count": 378,
   "id": "733498e2",
   "metadata": {},
   "outputs": [],
   "source": [
    "import os\n",
    "import numpy as np\n",
    "import pandas as pd\n",
    "import matplotlib.pyplot as plt\n",
    "import seaborn as sns\n",
    "import imblearn\n",
    "from sklearn.model_selection import train_test_split\n",
    "import tensorflow as tf"
   ]
  },
  {
   "cell_type": "code",
   "execution_count": 6,
   "id": "1fbb72ae",
   "metadata": {},
   "outputs": [],
   "source": [
    "RAW_PATH = '../data/raw/'"
   ]
  },
  {
   "cell_type": "code",
   "execution_count": 79,
   "id": "18accb56",
   "metadata": {},
   "outputs": [],
   "source": [
    "def batches(data, batch_size=60):\n",
    "    \"\"\"Return data in batches\"\"\"\n",
    "    start = 0\n",
    "    size = len(data) // batch_size + 1\n",
    "    \n",
    "    for i in range(size):\n",
    "        yield data.iloc[start: start + 60]\n",
    "        start += 60"
   ]
  },
  {
   "cell_type": "code",
   "execution_count": 465,
   "id": "fc0c59cd",
   "metadata": {},
   "outputs": [],
   "source": [
    "def preprocess_to_image(data, label):\n",
    "    \"\"\"This function takes activity data of a patient and turns it into a rows and columns. The rows indicates hours (0 - 23)\n",
    "    while the columns represents minutes(0 - 60)\"\"\"\n",
    "    final_data, day_data = [], []\n",
    "    labels = []\n",
    "\n",
    "    hour = 1\n",
    "    for batch in batches(data):\n",
    "        if hour == 24:\n",
    "            hour = 1\n",
    "            final_data.append(np.array(day_data).T)\n",
    "            labels.append(label)\n",
    "            day_data = []\n",
    "        hour += 1\n",
    "        \n",
    "        activity = batch['activity'].values\n",
    "        day_data.append(activity)\n",
    "        \n",
    "    return final_data, labels"
   ]
  },
  {
   "cell_type": "code",
   "execution_count": 285,
   "id": "19268404",
   "metadata": {},
   "outputs": [],
   "source": [
    "def remove_invalid_data(data):\n",
    "    \"\"\"Detects if there is 720 strings of zero and remove them from the dataset\"\"\"\n",
    "\n",
    "    for idx, _ in data.iterrows():\n",
    "        if (len(data.loc[idx: idx + 719, 'activity']) == 720) and (sum(data.loc[idx: idx + 719, 'activity']) == 0):\n",
    "            return data.iloc[0: idx, :]\n",
    "\n",
    "    return data"
   ]
  },
  {
   "cell_type": "code",
   "execution_count": 543,
   "id": "5e5814f2",
   "metadata": {},
   "outputs": [],
   "source": [
    "def read_data(path, n_classes=2):\n",
    "    dirs = os.listdir(path)\n",
    "    data, labels = [], []\n",
    "    count = 1\n",
    "    \n",
    "    for d in dirs:\n",
    "        if os.path.isdir(path + d): \n",
    "            print(f'{len(os.listdir(path + d))} files found in {d} directory' )\n",
    "            for filename in os.listdir(path + d):\n",
    "                activity_data = remove_invalid_data(pd.read_csv(f'{path}{d}/{filename}', parse_dates=['timestamp']))\n",
    "                activity_data['activity'] = np.log(activity_data['activity'] + 1)\n",
    "                activity_data['activity'] = activity_data['activity'].fillna(-1)\n",
    "                image_data, image_label = preprocess_to_image(activity_data, label=n_classes - count)\n",
    "                data.extend(image_data)\n",
    "                labels.extend(image_label)\n",
    "            count += 1\n",
    "                \n",
    "    return np.array(data), np.array(labels)"
   ]
  },
  {
   "cell_type": "code",
   "execution_count": 544,
   "id": "c115625f",
   "metadata": {},
   "outputs": [
    {
     "name": "stdout",
     "output_type": "stream",
     "text": [
      "20 files found in condition directory\n",
      "27 files found in control directory\n"
     ]
    }
   ],
   "source": [
    "data, labels = read_data(RAW_PATH)\n",
    "data = data.astype(np.float32) # convert the data to floating point numbers for normalization to be possible"
   ]
  },
  {
   "cell_type": "code",
   "execution_count": 587,
   "id": "f446f481",
   "metadata": {},
   "outputs": [
    {
     "data": {
      "text/plain": [
       "((800, 60, 23, 1), (800,))"
      ]
     },
     "execution_count": 587,
     "metadata": {},
     "output_type": "execute_result"
    }
   ],
   "source": [
    "data.shape, labels.shape"
   ]
  },
  {
   "cell_type": "code",
   "execution_count": 469,
   "id": "dde40667",
   "metadata": {},
   "outputs": [],
   "source": [
    "def normalize(data):\n",
    "    maximum = data.max()\n",
    "    return data / maximum"
   ]
  },
  {
   "cell_type": "code",
   "execution_count": 549,
   "id": "33f3061d",
   "metadata": {},
   "outputs": [],
   "source": [
    "data_copy = data.copy()"
   ]
  },
  {
   "cell_type": "code",
   "execution_count": 586,
   "id": "aa0bfb23",
   "metadata": {},
   "outputs": [],
   "source": [
    "data = data_copy.copy()"
   ]
  },
  {
   "cell_type": "code",
   "execution_count": 488,
   "id": "1290a252",
   "metadata": {},
   "outputs": [],
   "source": [
    "def sigmoid(x):\n",
    "    e = np.exp(1)\n",
    "    return 1/(1+e**(-x))"
   ]
  },
  {
   "cell_type": "code",
   "execution_count": 489,
   "id": "3921ed3c",
   "metadata": {},
   "outputs": [],
   "source": [
    "for idx, d in enumerate(data):\n",
    "    data[idx] = sigmoid(d)"
   ]
  },
  {
   "cell_type": "code",
   "execution_count": 592,
   "id": "4d2493b9",
   "metadata": {},
   "outputs": [],
   "source": [
    "def show_image(data, label):\n",
    "    \"\"\"Display activity image\"\"\"\n",
    "    fig, ax = plt.subplots(1,1, figsize=(12, 8))\n",
    "    ax.imshow(data)\n",
    "    if label == 0:\n",
    "        label = 'control'\n",
    "    else:\n",
    "        label = 'condition'\n",
    "        \n",
    "    plt.title(label)\n",
    "    plt.show()\n",
    "    fig.savefig('control.jpg', dpi=82)"
   ]
  },
  {
   "cell_type": "code",
   "execution_count": 588,
   "id": "71a54daa",
   "metadata": {},
   "outputs": [
    {
     "data": {
      "text/plain": [
       "(60, 23, 1)"
      ]
     },
     "execution_count": 588,
     "metadata": {},
     "output_type": "execute_result"
    }
   ],
   "source": [
    "data[idx].shape"
   ]
  },
  {
   "cell_type": "code",
   "execution_count": 595,
   "id": "0405946a",
   "metadata": {
    "scrolled": false
   },
   "outputs": [
    {
     "data": {
      "image/png": "[encoded data removed]",
      "text/plain": [
       "<Figure size 864x576 with 1 Axes>"
      ]
     },
     "metadata": {
      "needs_background": "light"
     },
     "output_type": "display_data"
    }
   ],
   "source": [
    "idx = 650\n",
    "show_image(data[idx], labels[idx])"
   ]
  },
  {
   "cell_type": "code",
   "execution_count": 552,
   "id": "8ce81e36",
   "metadata": {},
   "outputs": [],
   "source": [
    "data = data.reshape(data.shape + (1,))"
   ]
  },
  {
   "cell_type": "code",
   "execution_count": 553,
   "id": "767b719d",
   "metadata": {},
   "outputs": [],
   "source": [
    "X_train, X_test, y_train, y_test = train_test_split(data, labels, test_size=.2, random_state=42)"
   ]
  },
  {
   "cell_type": "code",
   "execution_count": 568,
   "id": "f7c817dc",
   "metadata": {},
   "outputs": [],
   "source": [
    "class_weight = {\n",
    "    1: 1,\n",
    "    0: 2,\n",
    "}"
   ]
  },
  {
   "cell_type": "code",
   "execution_count": 569,
   "id": "f2509e3d",
   "metadata": {},
   "outputs": [
    {
     "name": "stdout",
     "output_type": "stream",
     "text": [
      "Model: \"sequential_41\"\n",
      "_________________________________________________________________\n",
      " Layer (type)                Output Shape              Param #   \n",
      "=================================================================\n",
      " conv2d_115 (Conv2D)         (None, 58, 21, 16)        160       \n",
      "                                                                 \n",
      " conv2d_116 (Conv2D)         (None, 56, 19, 16)        2320      \n",
      "                                                                 \n",
      " max_pooling2d_70 (MaxPoolin  (None, 28, 9, 16)        0         \n",
      " g2D)                                                            \n",
      "                                                                 \n",
      " batch_normalization_35 (Bat  (None, 28, 9, 16)        64        \n",
      " chNormalization)                                                \n",
      "                                                                 \n",
      " dropout_73 (Dropout)        (None, 28, 9, 16)         0         \n",
      "                                                                 \n",
      " conv2d_117 (Conv2D)         (None, 26, 7, 32)         4640      \n",
      "                                                                 \n",
      " conv2d_118 (Conv2D)         (None, 24, 5, 32)         9248      \n",
      "                                                                 \n",
      " batch_normalization_36 (Bat  (None, 24, 5, 32)        128       \n",
      " chNormalization)                                                \n",
      "                                                                 \n",
      " max_pooling2d_71 (MaxPoolin  (None, 12, 2, 32)        0         \n",
      " g2D)                                                            \n",
      "                                                                 \n",
      " dropout_74 (Dropout)        (None, 12, 2, 32)         0         \n",
      "                                                                 \n",
      " flatten_41 (Flatten)        (None, 768)               0         \n",
      "                                                                 \n",
      " dense_74 (Dense)            (None, 512)               393728    \n",
      "                                                                 \n",
      " batch_normalization_37 (Bat  (None, 512)              2048      \n",
      " chNormalization)                                                \n",
      "                                                                 \n",
      " dropout_75 (Dropout)        (None, 512)               0         \n",
      "                                                                 \n",
      " dense_75 (Dense)            (None, 1)                 513       \n",
      "                                                                 \n",
      "=================================================================\n",
      "Total params: 412,849\n",
      "Trainable params: 411,729\n",
      "Non-trainable params: 1,120\n",
      "_________________________________________________________________\n"
     ]
    }
   ],
   "source": [
    "model = tf.keras.models.Sequential([\n",
    "    tf.keras.layers.Conv2D(filters=16, kernel_size=3, activation='relu', input_shape=[60, 23, 1]),\n",
    "    tf.keras.layers.Conv2D(filters=16, kernel_size=3, activation='relu'),\n",
    "    tf.keras.layers.MaxPool2D(pool_size=2),\n",
    "    tf.keras.layers.BatchNormalization(),\n",
    "    tf.keras.layers.Dropout(0.25),\n",
    "    tf.keras.layers.Conv2D(filters=32, kernel_size=3, activation='relu'),\n",
    "    tf.keras.layers.Conv2D(filters=32, kernel_size=3, activation='relu'),\n",
    "    tf.keras.layers.BatchNormalization(),\n",
    "    tf.keras.layers.MaxPool2D(pool_size=2),\n",
    "    tf.keras.layers.Dropout(0.25),\n",
    "    tf.keras.layers.Flatten(),\n",
    "    tf.keras.layers.Dense(512, activation='relu'),\n",
    "    tf.keras.layers.BatchNormalization(),\n",
    "    tf.keras.layers.Dropout(0.5),\n",
    "    tf.keras.layers.Dense(1, activation='sigmoid')\n",
    "])\n",
    "\n",
    "\n",
    "model.summary()"
   ]
  },
  {
   "cell_type": "code",
   "execution_count": 570,
   "id": "f6007c6d",
   "metadata": {},
   "outputs": [
    {
     "name": "stdout",
     "output_type": "stream",
     "text": [
      "Epoch 1/30\n",
      "20/20 [==============================] - 2s 81ms/step - loss: 0.9966 - accuracy: 0.5453\n",
      "Epoch 2/30\n",
      "20/20 [==============================] - 2s 80ms/step - loss: 0.9360 - accuracy: 0.5688\n",
      "Epoch 3/30\n",
      "20/20 [==============================] - 2s 81ms/step - loss: 0.9078 - accuracy: 0.5844\n",
      "Epoch 4/30\n",
      "20/20 [==============================] - 2s 82ms/step - loss: 0.8662 - accuracy: 0.6031\n",
      "Epoch 5/30\n",
      "20/20 [==============================] - 2s 82ms/step - loss: 0.8893 - accuracy: 0.5813\n",
      "Epoch 6/30\n",
      "20/20 [==============================] - 2s 85ms/step - loss: 0.8455 - accuracy: 0.5859\n",
      "Epoch 7/30\n",
      "20/20 [==============================] - 2s 89ms/step - loss: 0.8060 - accuracy: 0.6078\n",
      "Epoch 8/30\n",
      "20/20 [==============================] - 2s 99ms/step - loss: 0.7835 - accuracy: 0.6500\n",
      "Epoch 9/30\n",
      "20/20 [==============================] - 2s 84ms/step - loss: 0.7454 - accuracy: 0.6547\n",
      "Epoch 10/30\n",
      "20/20 [==============================] - 2s 85ms/step - loss: 0.7325 - accuracy: 0.6516\n",
      "Epoch 11/30\n",
      "20/20 [==============================] - 2s 89ms/step - loss: 0.6843 - accuracy: 0.6828\n",
      "Epoch 12/30\n",
      "20/20 [==============================] - 2s 87ms/step - loss: 0.7444 - accuracy: 0.6422\n",
      "Epoch 13/30\n",
      "20/20 [==============================] - 2s 87ms/step - loss: 0.7283 - accuracy: 0.6516\n",
      "Epoch 14/30\n",
      "20/20 [==============================] - 2s 82ms/step - loss: 0.6691 - accuracy: 0.6766\n",
      "Epoch 15/30\n",
      "20/20 [==============================] - 2s 87ms/step - loss: 0.6457 - accuracy: 0.6969\n",
      "Epoch 16/30\n",
      "20/20 [==============================] - 2s 82ms/step - loss: 0.6794 - accuracy: 0.6969\n",
      "Epoch 17/30\n",
      "20/20 [==============================] - 2s 83ms/step - loss: 0.6652 - accuracy: 0.7141\n",
      "Epoch 18/30\n",
      "20/20 [==============================] - 2s 84ms/step - loss: 0.6275 - accuracy: 0.7125\n",
      "Epoch 19/30\n",
      "20/20 [==============================] - 2s 86ms/step - loss: 0.6426 - accuracy: 0.6922\n",
      "Epoch 20/30\n",
      "20/20 [==============================] - 2s 83ms/step - loss: 0.5808 - accuracy: 0.7297\n",
      "Epoch 21/30\n",
      "20/20 [==============================] - 2s 82ms/step - loss: 0.6114 - accuracy: 0.7156\n",
      "Epoch 22/30\n",
      "20/20 [==============================] - 2s 82ms/step - loss: 0.6098 - accuracy: 0.7094\n",
      "Epoch 23/30\n",
      "20/20 [==============================] - 2s 95ms/step - loss: 0.5762 - accuracy: 0.7188\n",
      "Epoch 24/30\n",
      "20/20 [==============================] - 2s 88ms/step - loss: 0.6097 - accuracy: 0.7453\n",
      "Epoch 25/30\n",
      "20/20 [==============================] - 2s 88ms/step - loss: 0.5831 - accuracy: 0.7359\n",
      "Epoch 26/30\n",
      "20/20 [==============================] - 2s 87ms/step - loss: 0.5917 - accuracy: 0.7312\n",
      "Epoch 27/30\n",
      "20/20 [==============================] - 2s 87ms/step - loss: 0.5794 - accuracy: 0.7422\n",
      "Epoch 28/30\n",
      "20/20 [==============================] - 2s 90ms/step - loss: 0.5097 - accuracy: 0.7563\n",
      "Epoch 29/30\n",
      "20/20 [==============================] - 2s 89ms/step - loss: 0.5441 - accuracy: 0.7469\n",
      "Epoch 30/30\n",
      "20/20 [==============================] - 2s 91ms/step - loss: 0.5597 - accuracy: 0.7484\n"
     ]
    },
    {
     "data": {
      "text/plain": [
       "<keras.callbacks.History at 0x217c3d30f10>"
      ]
     },
     "execution_count": 570,
     "metadata": {},
     "output_type": "execute_result"
    }
   ],
   "source": [
    "model.compile(loss='binary_crossentropy',\n",
    "             optimizer=tf.keras.optimizers.Adam(0.0001),\n",
    "             metrics=['accuracy'])\n",
    "\n",
    "model.fit(X_train, y_train, epochs=30)"
   ]
  },
  {
   "cell_type": "code",
   "execution_count": 571,
   "id": "ff8171fd",
   "metadata": {
    "scrolled": true
   },
   "outputs": [
    {
     "name": "stdout",
     "output_type": "stream",
     "text": [
      "5/5 [==============================] - 0s 24ms/step - loss: 0.6829 - accuracy: 0.7063\n"
     ]
    },
    {
     "data": {
      "text/plain": [
       "[0.6829465627670288, 0.706250011920929]"
      ]
     },
     "execution_count": 571,
     "metadata": {},
     "output_type": "execute_result"
    }
   ],
   "source": [
    "model.evaluate(X_test, y_test)"
   ]
  },
  {
   "cell_type": "code",
   "execution_count": 573,
   "id": "3df50af8",
   "metadata": {
    "scrolled": true
   },
   "outputs": [
    {
     "data": {
      "text/plain": [
       "0    0.625\n",
       "1    0.375\n",
       "dtype: float64"
      ]
     },
     "execution_count": 573,
     "metadata": {},
     "output_type": "execute_result"
    }
   ],
   "source": [
    "pd.DataFrame(y_test).value_counts(normalize=True)"
   ]
  },
  {
   "cell_type": "code",
   "execution_count": 574,
   "id": "63be10f1",
   "metadata": {},
   "outputs": [
    {
     "data": {
      "text/plain": [
       "array([0, 0, 1, 0, 1, 0, 0, 0, 0, 0, 1, 1, 0, 1, 0, 0, 1, 0, 0, 0, 0, 0,\n",
       "       0, 0, 0, 1, 1, 0, 0, 0, 1, 1, 0, 0, 1, 1, 0, 0, 0, 0, 1, 1, 1, 0,\n",
       "       0, 0, 0, 0, 0, 0, 1, 1, 0, 1, 0, 0, 0, 0, 1, 1, 0, 0, 0, 1, 1, 0,\n",
       "       1, 0, 0, 1, 0, 1, 0, 1, 1, 1, 0, 0, 0, 0, 0, 1, 1, 1, 0, 0, 0, 1,\n",
       "       0, 1, 0, 0, 1, 0, 0, 0, 0, 0, 1, 0, 1, 0, 1, 1, 1, 1, 0, 0, 1, 0,\n",
       "       0, 0, 1, 1, 0, 1, 0, 0, 1, 1, 0, 0, 1, 0, 1, 1, 0, 1, 1, 0, 0, 1,\n",
       "       1, 0, 1, 0, 0, 1, 0, 0, 1, 0, 0, 1, 1, 0, 1, 0, 0, 0, 0, 1, 0, 0,\n",
       "       0, 0, 0, 0, 0, 0])"
      ]
     },
     "execution_count": 574,
     "metadata": {},
     "output_type": "execute_result"
    }
   ],
   "source": [
    "y_test"
   ]
  },
  {
   "cell_type": "code",
   "execution_count": 575,
   "id": "b78a2eee",
   "metadata": {},
   "outputs": [],
   "source": [
    "prediction = np.round(model.predict(X_test))"
   ]
  },
  {
   "cell_type": "code",
   "execution_count": 565,
   "id": "b6664e11",
   "metadata": {},
   "outputs": [],
   "source": [
    "from sklearn.metrics import plot_confusion_matrix, classification_report"
   ]
  },
  {
   "cell_type": "code",
   "execution_count": 576,
   "id": "0a81a253",
   "metadata": {},
   "outputs": [
    {
     "name": "stdout",
     "output_type": "stream",
     "text": [
      "              precision    recall  f1-score   support\n",
      "\n",
      "           0       0.74      0.81      0.78       100\n",
      "           1       0.63      0.53      0.58        60\n",
      "\n",
      "    accuracy                           0.71       160\n",
      "   macro avg       0.69      0.67      0.68       160\n",
      "weighted avg       0.70      0.71      0.70       160\n",
      "\n"
     ]
    }
   ],
   "source": [
    "print(classification_report(y_test, prediction))"
   ]
  },
  {
   "cell_type": "code",
   "execution_count": null,
   "id": "46207f29",
   "metadata": {},
   "outputs": [],
   "source": []
  }
 ],
 "metadata": {
  "kernelspec": {
   "display_name": "Python 3",
   "language": "python",
   "name": "python3"
  },
  "language_info": {
   "codemirror_mode": {
    "name": "ipython",
    "version": 3
   },
   "file_extension": ".py",
   "mimetype": "text/x-python",
   "name": "python",
   "nbconvert_exporter": "python",
   "pygments_lexer": "ipython3",
   "version": "3.8.3"
  }
 },
 "nbformat": 4,
 "nbformat_minor": 5
}
